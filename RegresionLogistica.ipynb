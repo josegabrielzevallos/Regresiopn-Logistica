{
 "cells": [
  {
   "cell_type": "code",
   "execution_count": 44,
   "metadata": {},
   "outputs": [],
   "source": [
    "import pandas as pd\n",
    "import numpy as np\n",
    "import matplotlib.pyplot as plt"
   ]
  },
  {
   "cell_type": "code",
   "execution_count": 45,
   "metadata": {},
   "outputs": [],
   "source": [
    "def Normalizar(learray):\n",
    "    final = np.array(learray[:,-1])\n",
    "    promedio = np.mean(learray,axis=0)\n",
    "    deviacion = np.std(learray,axis=0)\n",
    "    for i in range(0,learray.shape[0]):\n",
    "        learray[i] = np.true_divide((learray[i]-promedio),deviacion)\n",
    "    learray[:,-1] = final[:]\n",
    "    return learray\n",
    "\n",
    "\n",
    "def Leer_Datos(Ruta, delmt ='\\t', head = None, col=\"\"):\n",
    "    data = pd.read_csv(Ruta,delimiter = delmt, header = head,dtype=np.float64)\n",
    "    data = data.sort_values(by=[col])\n",
    "    return  data.values\n",
    "\n",
    "\n",
    "def Leer_Datos2(Ruta, delmt = '\\t',head = None):\n",
    "    datos = pd.read_csv(Ruta, delimiter = delmt, header = head , dtype=np.float64)\n",
    "    return datos.values\n",
    "\n"
   ]
  },
  {
   "cell_type": "code",
   "execution_count": 138,
   "metadata": {},
   "outputs": [
    {
     "ename": "TypeError",
     "evalue": "Leer_Datos() got an unexpected keyword argument 'sep'",
     "output_type": "error",
     "traceback": [
      "\u001b[1;31m---------------------------------------------------------------------------\u001b[0m",
      "\u001b[1;31mTypeError\u001b[0m                                 Traceback (most recent call last)",
      "\u001b[1;32m<ipython-input-138-7af64d9ea503>\u001b[0m in \u001b[0;36m<module>\u001b[1;34m\u001b[0m\n\u001b[1;32m----> 1\u001b[1;33m \u001b[0mprueba\u001b[0m \u001b[1;33m=\u001b[0m \u001b[0mLeer_Datos\u001b[0m\u001b[1;33m(\u001b[0m\u001b[1;34m\"DataSetLog/Enfermedad_Cardiaca.csv\"\u001b[0m\u001b[1;33m,\u001b[0m\u001b[0msep\u001b[0m\u001b[1;33m=\u001b[0m\u001b[1;34m'\\t'\u001b[0m\u001b[1;33m,\u001b[0m\u001b[0mhead\u001b[0m \u001b[1;33m=\u001b[0m\u001b[1;36m0\u001b[0m\u001b[1;33m,\u001b[0m\u001b[0mcol\u001b[0m\u001b[1;33m=\u001b[0m\u001b[1;34m'target'\u001b[0m\u001b[1;33m)\u001b[0m\u001b[1;33m\u001b[0m\u001b[1;33m\u001b[0m\u001b[0m\n\u001b[0m\u001b[0;32m      2\u001b[0m \u001b[1;31m#print(prueba)\u001b[0m\u001b[1;33m\u001b[0m\u001b[1;33m\u001b[0m\u001b[1;33m\u001b[0m\u001b[0m\n\u001b[0;32m      3\u001b[0m \u001b[0mx\u001b[0m \u001b[1;33m=\u001b[0m \u001b[0mnp\u001b[0m\u001b[1;33m.\u001b[0m\u001b[0marray\u001b[0m\u001b[1;33m(\u001b[0m\u001b[0mprueba\u001b[0m\u001b[1;33m)\u001b[0m\u001b[1;33m\u001b[0m\u001b[1;33m\u001b[0m\u001b[0m\n\u001b[0;32m      4\u001b[0m \u001b[0mprint\u001b[0m\u001b[1;33m(\u001b[0m\u001b[0mx\u001b[0m\u001b[1;33m[\u001b[0m\u001b[1;36m0\u001b[0m\u001b[1;33m]\u001b[0m\u001b[1;33m)\u001b[0m\u001b[1;33m\u001b[0m\u001b[1;33m\u001b[0m\u001b[0m\n",
      "\u001b[1;31mTypeError\u001b[0m: Leer_Datos() got an unexpected keyword argument 'sep'"
     ]
    }
   ],
   "source": []
  },
  {
   "cell_type": "code",
   "execution_count": 59,
   "metadata": {},
   "outputs": [],
   "source": [
    "# Todo lo de folds \n",
    "\n",
    "def Crear_folds(data,k=3):\n",
    "    #posiciones = np.where(np.diff(data[:,-1]))\n",
    "    #print(posiciones)\n",
    "    ceros, unos = np.split(data,np.where(np.diff(data[:,-1]))[0]+1)\n",
    "    result =list()\n",
    "    fold_B1 = np.array_split(ceros,k)\n",
    "    fold_B2 = np.array_split(unos,k)\n",
    "    for i in range(k):\n",
    "        aux = np.concatenate((fold_B1[i],fold_B2[i]))\n",
    "        np.random.shuffle(aux)\n",
    "        result.append(aux)\n",
    "    \n",
    "  \n",
    "    return result\n",
    "    \n",
    "\n",
    "def guardar_folds(fold_b, nombre,file='/',delt='\\t' ):\n",
    "    for i in range(len(fold_b)):\n",
    "        archivo = file + nombre + str(i+1)+'.csv'\n",
    "        np.savetxt(archivo,fold_b[i],delimiter ='\\t')\n",
    "                   \n",
    "                   \n",
    "def leer_folds(nombre,delt='\\t',k=3):\n",
    "    nombre = 'Folds/' + nombre\n",
    "    list_folds = list()\n",
    "    for i in range(k):\n",
    "        leer = Leer_Datos2(nombre+str(i+1)+'.csv',delmt=delt)\n",
    "        list_folds.append(leer)\n",
    "    return list_folds\n",
    "    \n"
   ]
  },
  {
   "cell_type": "code",
   "execution_count": 58,
   "metadata": {},
   "outputs": [],
   "source": [
    "def Sigmodial(X, theta):\n",
    "    hipotesis = X.dot(theta.T)\n",
    "    z = 1/(1+np.exp(-hipotesis))\n",
    "    return z\n",
    "\n",
    "def Calcular_costo(X,Y,theta):\n",
    "    tam = len(X)\n",
    "    hipotesis = (Sigmodial(X,theta))\n",
    "    a = np.log(hipotesis) * Y\n",
    "    b = np.log(1-hipotesis)*(1-Y)\n",
    "    costo = np.sum(a+b)*(-1/tam)\n",
    "    return costo\n",
    "\n",
    "\n",
    "def Gradiente(X,Y,theta):\n",
    "    tam = len(X)\n",
    "    hipotesis = Sigmodial(X,theta)\n",
    "    resta = hipotesis - Y\n",
    "    derivada = np.dot(X.T, resta) / tam\n",
    "    return derivada\n",
    "\n",
    "def Gradiente_descendiente(X,Y,theta,iteraciones,tasa):\n",
    "    costos = [0]*iteraciones\n",
    "    for i in range(iteraciones):\n",
    "        derivada = Gradiente(X,Y,theta)\n",
    "        theta = theta -(tasa * derivada).T\n",
    "        costos[i] = Calcular_costo(X,Y,theta)\n",
    "    return theta,costos\n",
    "    \n",
    "\n",
    "\n"
   ]
  },
  {
   "cell_type": "code",
   "execution_count": 61,
   "metadata": {},
   "outputs": [],
   "source": [
    "# Acurracy\n",
    "def Accuracy(X,Y,theta):\n",
    "    y_p = np.rint(Sigmodial(X,theta))\n",
    "    cont = 0\n",
    "    for i in (Y-y_p):\n",
    "        if(i==0):\n",
    "            cont = cont+1\n",
    "    porcentaje = (cont/len(Y))*100\n",
    "    return porcentaje\n",
    "\n",
    "def Calcular_entrenamientos(folds,val,k=3):\n",
    "    train =np.array([])\n",
    "    test =np.array([])\n",
    "    \n",
    "    for i in range(k):\n",
    "        if i in val:\n",
    "            if len(test) == 0:\n",
    "                test = folds[i]\n",
    "            else:\n",
    "                test = np.concatenate((test,folds[i]))\n",
    "        else:\n",
    "            if len(train) == 0:\n",
    "                train = folds[i]\n",
    "            else:\n",
    "                train = np.concatenate((train,folds[i]))\n",
    "    return train,test\n",
    "\n",
    "\n",
    "def Agregacion(tests,trains):\n",
    "    train_x = trains[:,0:-1]\n",
    "    test_x =  tests[:,0:-1]\n",
    "    \n",
    "    train_y = trains[0:,-1:]\n",
    "    test_y = tests[:,-1:]\n",
    "    \n",
    "    train_x = np.insert(train_x,0,1,axis=1)\n",
    "    test_x = np.insert(test_x,0,1,axis=1)\n",
    "    \n",
    "    return train_x, test_x, train_y, test_y\n",
    "\n"
   ]
  },
  {
   "cell_type": "code",
   "execution_count": 56,
   "metadata": {},
   "outputs": [],
   "source": [
    "# Lectura de datos \n",
    "archivo_diabetes = Leer_Datos(\"DataSetLog/diabetes.csv\",delmt='\\t',head=0,col='Outcome')\n",
    "archivo_cardiaco = Leer_Datos(\"DataSetLog/Enfermedad_Cardiaca.csv\",delmt='\\t',head=0,col='target')\n",
    "\n",
    "# Normalizacion de datos\n",
    "diabetes_norm = Normalizar(archivo_diabetes)\n",
    "cardiaco_norm = Normalizar(archivo_cardiaco)\n",
    "\n",
    "# creacion de los folds\n",
    "\n",
    "\n",
    "Folds_diabetes = Crear_folds(diabetes_norm)\n",
    "Folds_cardiaco = Crear_folds(cardiaco_norm)\n",
    "\n",
    "#print(Folds_diabetes[0].shape,Folds_diabetes[1].shape,Folds_diabetes[2].shape)\n",
    "#print(Folds_cardiaco[0].shape,Folds_cardiaco[1].shape,Folds_cardiaco[2].shape)\n",
    "\n",
    "guardar_folds(Folds_diabetes,'Diabetes','Folds/')\n",
    "guardar_folds(Folds_cardiaco,'Cardiaco','Folds/')\n",
    "\n",
    "\n",
    "foldDiabetes =leer_folds('Diabetes')\n",
    "foldCardiaco =leer_folds('Cardiaco')\n"
   ]
  },
  {
   "cell_type": "code",
   "execution_count": 62,
   "metadata": {},
   "outputs": [
    {
     "name": "stdout",
     "output_type": "stream",
     "text": [
      "           500        1000       1500       2000       2500       3000  \\\n",
      "0.01  72.549020  72.156863  72.941176  72.941176  72.549020  72.549020   \n",
      "0.05  72.549020  72.941176  72.941176  73.333333  73.333333  73.333333   \n",
      "0.10  72.941176  73.333333  73.333333  73.333333  73.333333  73.333333   \n",
      "0.20  73.333333  73.333333  73.333333  73.333333  73.333333  73.333333   \n",
      "0.30  73.333333  73.333333  73.333333  73.333333  73.333333  73.333333   \n",
      "0.40  73.333333  73.333333  73.333333  73.333333  73.333333  73.333333   \n",
      "\n",
      "           3500  \n",
      "0.01  72.549020  \n",
      "0.05  73.333333  \n",
      "0.10  73.333333  \n",
      "0.20  73.333333  \n",
      "0.30  73.333333  \n",
      "0.40  73.333333  \n",
      "Mayor accuracy en : 0.05 2000\n"
     ]
    }
   ],
   "source": [
    " #exeprimeento 1 con disabetes\n",
    "\n",
    "iteraciones = [500 , 1000, 1500, 2000, 2500, 3000, 3500]\n",
    "tasa_aprendizaje = [0.01,0.05,0.1,0.2,0.3,0.4]\n",
    "\n",
    "k=3\n",
    "\n",
    "matriz_ac =np.random.rand(len(tasa_aprendizaje),len(iteraciones))\n",
    "parametros = (0,0)\n",
    "para = (len(tasa_aprendizaje),len(iteraciones))\n",
    "suma = np.zeros(para)\n",
    "\n",
    "for k in range(k):\n",
    "    train_diabetes, test_diabetes = Calcular_entrenamientos(foldDiabetes,[k])\n",
    "    train_dia_x, test_dia_x, train_dia_y, test_dia_y = Agregacion(test_diabetes, train_diabetes)\n",
    "    theta_dia = np.zeros(train_dia_x.shape[1])[np.newaxis]\n",
    "    \n",
    "    for tasa in range(len(tasa_aprendizaje)):\n",
    "        for itera in range(len(iteraciones)):\n",
    "            theta_actual, _ = Gradiente_descendiente(train_dia_x, train_dia_y, theta_dia, iteraciones[itera], tasa_aprendizaje[tasa])\n",
    "            matriz_ac[tasa,itera] = Accuracy(test_dia_x, test_dia_y, theta_actual)\n",
    "    aux = matrix_ac\n",
    "    suma = suma+ matrix_ac\n",
    "    \n",
    "    \n",
    "\n",
    "suma = suma/3\n",
    "\n",
    "for tasa in range(len(tasa_aprendizaje)):\n",
    "    for itera in range(len(iteraciones)):\n",
    "        if(matriz_ac[tasa,itera] > matriz_ac[parametros[0],parametros[1]]):\n",
    "            parametros = (tasa,itera)\n",
    "\n",
    "cuadro1 = pd.DataFrame(data = matriz_ac, index = tasa_aprendizaje, columns =iteraciones)\n",
    "print(cuadro1)\n",
    "print (\"Mayor accuracy en :\",tasa_aprendizaje[parametros[0]],iteraciones[parametros[1]])\n",
    "\n",
    "\n",
    "\n",
    "############################################\n",
    "\n"
   ]
  },
  {
   "cell_type": "code",
   "execution_count": 51,
   "metadata": {},
   "outputs": [
    {
     "name": "stdout",
     "output_type": "stream",
     "text": [
      "resultdo de cardiaco\n",
      "           500        1000       1500       2000       2500       3000  \\\n",
      "0.01  85.148515  83.168317  84.158416  83.168317  83.168317  82.178218   \n",
      "0.05  83.168317  81.188119  81.188119  81.188119  81.188119  81.188119   \n",
      "0.10  81.188119  81.188119  81.188119  81.188119  81.188119  81.188119   \n",
      "0.20  81.188119  81.188119  81.188119  81.188119  81.188119  81.188119   \n",
      "0.30  81.188119  81.188119  81.188119  81.188119  81.188119  81.188119   \n",
      "0.40  81.188119  81.188119  81.188119  81.188119  81.188119  81.188119   \n",
      "\n",
      "           3500  \n",
      "0.01  82.178218  \n",
      "0.05  81.188119  \n",
      "0.10  81.188119  \n",
      "0.20  81.188119  \n",
      "0.30  81.188119  \n",
      "0.40  81.188119  \n",
      "Mayor accuracy en : 0.4 3500\n"
     ]
    }
   ],
   "source": [
    "print(\"resultdo de cardiaco\")\n",
    "\n",
    "iteraciones = [500 , 1000, 1500, 2000, 2500, 3000, 3500]\n",
    "tasa_aprendizaje = [0.01,0.05,0.1,0.2,0.3,0.4]\n",
    "\n",
    "k=3\n",
    "\n",
    "\n",
    "\n",
    "matriz_ac1 =np.random.rand(len(tasa_aprendizaje),len(iteraciones))\n",
    "parametros_c = (0,0)\n",
    "para = (len(tasa_aprendizaje),len(iteraciones))\n",
    "suma = np.zeros(para)\n",
    "\n",
    "for k in range(k):\n",
    "    train_cardiaco, test_cardiaco = Calcular_entrenamientos(foldCardiaco,[k])\n",
    "    train_cardi_x, test_cardi_x, train_cardi_y, test_cardi_y = Agregacion(test_cardiaco, train_cardiaco)\n",
    "    theta_cardi = np.zeros(train_cardi_x.shape[1])[np.newaxis]\n",
    "    \n",
    "    for tasa in range(len(tasa_aprendizaje)):\n",
    "        for itera in range(len(iteraciones)):\n",
    "            theta_actual, _ = Gradiente_descendiente(train_cardi_x, train_cardi_y, theta_cardi, iteraciones[itera], tasa_aprendizaje[tasa])\n",
    "            matriz_ac1[tasa,itera] = Accuracy(test_cardi_x, test_cardi_y, theta_actual)\n",
    "    aux = matrix_ac\n",
    "    suma = suma+ matriz_ac1\n",
    "    \n",
    "    \n",
    "\n",
    "suma = suma/3\n",
    "\n",
    "for tasa in range(len(tasa_aprendizaje)):\n",
    "    for itera in range(len(iteraciones)):\n",
    "        if(matriz_ac1[tasa,itera] > matriz_ac[parametros_c[0],parametros_c[1]]):\n",
    "            parametros_c = (tasa,itera)\n",
    "\n",
    "cuadro2= pd.DataFrame(data = matriz_ac1, index = tasa_aprendizaje, columns =iteraciones)\n",
    "print(cuadro2)\n",
    "print (\"Mayor accuracy en :\",tasa_aprendizaje[parametros_c[0]],iteraciones[parametros_c[1]])\n"
   ]
  },
  {
   "cell_type": "code",
   "execution_count": 66,
   "metadata": {},
   "outputs": [
    {
     "data": {
      "image/png": "[encoded data removed]",
      "text/plain": [
       "<Figure size 432x288 with 1 Axes>"
      ]
     },
     "metadata": {
      "needs_background": "light"
     },
     "output_type": "display_data"
    }
   ],
   "source": [
    "#Experimento 2\n",
    "colors=[\"black\",\"red\",\"yellow\"]\n",
    "k=3\n",
    "#_, costos_d = Gradiente_descendiente(train_dia_x,train_dia_y,theta_dia,iteraciones[parametros[1]],tasa_aprendizaje[parametros[0]])\n",
    "#_, costos_c = Gradiente_descendiente(train_cardi_x,train_cardi_y,theta_cardi,iteraciones[parametros_c[1]],tasa_aprendizaje[parametros_c[0]])\n",
    "for k in range(k):\n",
    "    train_dia_g,test_dia_g = Calcular_entrenamientos(foldDiabetes,[k])\n",
    "    train_dia_x, test_dia_x,train_dia_y, test_dia_y = Agregacion(test_dia_g,train_dia_g)\n",
    "    theta_dia_g = np.zeros(train_dia_x.shape[1])[np.newaxis]\n",
    "    _, costos_d = Gradiente_descendiente(train_dia_x, train_dia_y, theta_dia_g,iteraciones[parametros[1]],tasa_aprendizaje[parametros[0]])\n",
    "    plt.scatter(np.arange(iteraciones[parametros[1]]),costos_d,alpha=0.2,c=colors[k],s=2)\n",
    "    plt.xlabel('iteraciones')\n",
    "    plt.ylabel('Costos')\n",
    "    plt.xlabel('Diabetes')"
   ]
  },
  {
   "cell_type": "code",
   "execution_count": 67,
   "metadata": {},
   "outputs": [
    {
     "data": {
      "image/png": "[encoded data removed]",
      "text/plain": [
       "<Figure size 432x288 with 1 Axes>"
      ]
     },
     "metadata": {
      "needs_background": "light"
     },
     "output_type": "display_data"
    }
   ],
   "source": [
    "#Experimento 2\n",
    "colors=[\"black\",\"red\",\"yellow\"]\n",
    "k=3\n",
    "#_, costos_d = Gradiente_descendiente(train_dia_x,train_dia_y,theta_dia,iteraciones[parametros[1]],tasa_aprendizaje[parametros[0]])\n",
    "#_, costos_c = Gradiente_descendiente(train_cardi_x,train_cardi_y,theta_cardi,iteraciones[parametros_c[1]],tasa_aprendizaje[parametros_c[0]])\n",
    "for k in range(k):\n",
    "    train_cardi_g,test_cardi_g = Calcular_entrenamientos(foldCardiaco,[k])\n",
    "    train_cardi_x, test_cardi_x,train_cardi_y, test_cardi_y = Agregacion(test_cardi_g,train_cardi_g)\n",
    "    theta_cardi_g = np.zeros(train_cardi_x.shape[1])[np.newaxis]\n",
    "    _, costos_d = Gradiente_descendiente(train_cardi_x, train_cardi_y, theta_cardi_g,iteraciones[parametros[1]],tasa_aprendizaje[parametros[0]])\n",
    "    plt.scatter(np.arange(iteraciones[parametros[1]]),costos_d,alpha=0.2,c=colors[k],s=2)\n",
    "    plt.xlabel('iteraciones')\n",
    "    plt.ylabel('Costos')\n",
    "    plt.xlabel('Diabetes')"
   ]
  }
 ],
 "metadata": {
  "kernelspec": {
   "display_name": "Python 3",
   "language": "python",
   "name": "python3"
  },
  "language_info": {
   "codemirror_mode": {
    "name": "ipython",
    "version": 3
   },
   "file_extension": ".py",
   "mimetype": "text/x-python",
   "name": "python",
   "nbconvert_exporter": "python",
   "pygments_lexer": "ipython3",
   "version": "3.6.8"
  }
 },
 "nbformat": 4,
 "nbformat_minor": 4
}
